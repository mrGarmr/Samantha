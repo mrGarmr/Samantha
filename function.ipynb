{
 "cells": [
  {
   "cell_type": "code",
   "execution_count": 14,
   "id": "27e09c7f",
   "metadata": {},
   "outputs": [],
   "source": [
    "!pip install wget #Якщо немає\n",
    "import numpy as np\n",
    "import tensorflow as tf\n",
    "import wget\n",
    "\n",
    "from keras.models import load_model\n",
    "from os.path import exists\n",
    "from PIL import Image"
   ]
  },
  {
   "cell_type": "code",
   "execution_count": 15,
   "id": "7c7067c7",
   "metadata": {},
   "outputs": [],
   "source": [
    "def load_image(filename):\n",
    "    image = tf.keras.utils.load_img(filename, target_size=(80, 80))\n",
    "    image = tf.keras.utils.img_to_array(image)\n",
    "    image = image.reshape(80, 80, 3)\n",
    "    return image"
   ]
  },
  {
   "cell_type": "code",
   "execution_count": 16,
   "id": "c65c444d",
   "metadata": {},
   "outputs": [],
   "source": [
    "def download_file():\n",
    "    url = r'https://drive.google.com/u/0/uc?id=1SKNPTuei7EV7EXqjlKD-OfL-SwXhlaU8&export=download&confirm=t&uuid=159dffe1-8919-4bb4-8636-ed770fc12685&at=ANzk5s79gDCl8yiydwX1RXcdCz2O:1679566441866'\n",
    "    wget.download(url)\n",
    "    "
   ]
  },
  {
   "cell_type": "code",
   "execution_count": 17,
   "id": "c8474eb1",
   "metadata": {},
   "outputs": [],
   "source": [
    "def image_recognition(filename):\n",
    "    classes = [\n",
    "        'Airplane', \n",
    "        'Automobile', \n",
    "        'Bird', \n",
    "        'Cat', \n",
    "        'Deer', \n",
    "        'Dog', \n",
    "        'Frog', \n",
    "        'Horse', \n",
    "        'Ship', \n",
    "        'Truck']\n",
    "    \n",
    "    if not exists('cifar10_new_v6.hdf5'):\n",
    "        download_file()\n",
    "    \n",
    "    image = load_image(filename)\n",
    "    model = load_model('cifar10_new_v6.hdf5')\n",
    "        \n",
    "    result = model.predict(np.expand_dims(image, axis=0))\n",
    "    prediction = result[0]\n",
    "    result = np.argmax(prediction)\n",
    "    \n",
    "    if prediction[result] < 0.85:\n",
    "        return ['Bad photo, please give me another one']\n",
    "    else:\n",
    "        return [classes[result], filename]\n",
    "    \n",
    "    "
   ]
  },
  {
   "cell_type": "code",
   "execution_count": 19,
   "id": "e3274470",
   "metadata": {},
   "outputs": [
    {
     "name": "stdout",
     "output_type": "stream",
     "text": [
      "1/1 [==============================] - 0s 136ms/step\n",
      "['Cat', 'cat.jpeg']\n",
      "1/1 [==============================] - 0s 134ms/step\n",
      "['Automobile', 'car.jpg']\n",
      "1/1 [==============================] - 0s 133ms/step\n",
      "['Dog', 'dog.png']\n",
      "WARNING:tensorflow:5 out of the last 5 calls to <function Model.make_predict_function.<locals>.predict_function at 0x7fb1b8d62550> triggered tf.function retracing. Tracing is expensive and the excessive number of tracings could be due to (1) creating @tf.function repeatedly in a loop, (2) passing tensors with different shapes, (3) passing Python objects instead of tensors. For (1), please define your @tf.function outside of the loop. For (2), @tf.function has reduce_retracing=True option that can avoid unnecessary retracing. For (3), please refer to https://www.tensorflow.org/guide/function#controlling_retracing and https://www.tensorflow.org/api_docs/python/tf/function for  more details.\n",
      "1/1 [==============================] - 0s 138ms/step\n",
      "['Airplane', 'plane.jpg']\n",
      "WARNING:tensorflow:6 out of the last 6 calls to <function Model.make_predict_function.<locals>.predict_function at 0x7fb1a8f014c0> triggered tf.function retracing. Tracing is expensive and the excessive number of tracings could be due to (1) creating @tf.function repeatedly in a loop, (2) passing tensors with different shapes, (3) passing Python objects instead of tensors. For (1), please define your @tf.function outside of the loop. For (2), @tf.function has reduce_retracing=True option that can avoid unnecessary retracing. For (3), please refer to https://www.tensorflow.org/guide/function#controlling_retracing and https://www.tensorflow.org/api_docs/python/tf/function for  more details.\n",
      "1/1 [==============================] - 0s 134ms/step\n",
      "['Ship', 'ship.jpg']\n"
     ]
    }
   ],
   "source": [
    "test = ['cat.jpeg', 'car.jpg', 'dog.png', 'plane.jpg', 'ship.jpg']\n",
    "#test = ['how-to-draw-a-plane.jpg']\n",
    "for filename in test:\n",
    "    print(image_recognition(filename))"
   ]
  },
  {
   "cell_type": "code",
   "execution_count": null,
   "id": "abdd69cf",
   "metadata": {},
   "outputs": [],
   "source": []
  },
  {
   "cell_type": "code",
   "execution_count": null,
   "id": "bcca6278",
   "metadata": {},
   "outputs": [],
   "source": []
  }
 ],
 "metadata": {
  "kernelspec": {
   "display_name": "Python 3 (ipykernel)",
   "language": "python",
   "name": "python3"
  },
  "language_info": {
   "codemirror_mode": {
    "name": "ipython",
    "version": 3
   },
   "file_extension": ".py",
   "mimetype": "text/x-python",
   "name": "python",
   "nbconvert_exporter": "python",
   "pygments_lexer": "ipython3",
   "version": "3.9.13"
  }
 },
 "nbformat": 4,
 "nbformat_minor": 5
}
